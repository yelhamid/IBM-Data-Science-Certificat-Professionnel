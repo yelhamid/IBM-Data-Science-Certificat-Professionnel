{
  "nbformat": 4,
  "nbformat_minor": 0,
  "metadata": {
    "colab": {
      "provenance": []
    },
    "kernelspec": {
      "name": "python3",
      "display_name": "Python 3"
    },
    "language_info": {
      "name": "python"
    }
  },
  "cells": [
    {
      "cell_type": "markdown",
      "source": [
        "**Final_Assignment**"
      ],
      "metadata": {
        "id": "WXtMLiZ2S2Ig"
      }
    },
    {
      "cell_type": "markdown",
      "source": [
        "Bienvenue dans ce carnet qui traite de la science des données."
      ],
      "metadata": {
        "id": "8sng8_Y2TDFg"
      }
    },
    {
      "cell_type": "markdown",
      "source": [
        "## Langages de la Science des Données\n",
        "- Python\n",
        "- R\n",
        "- Julia\n"
      ],
      "metadata": {
        "id": "TrM5yY3tTHsY"
      }
    },
    {
      "cell_type": "markdown",
      "source": [
        "## Bibliothèques de Science des Données\n",
        "- Pandas\n",
        "- NumPy\n",
        "- Scikit-learn\n"
      ],
      "metadata": {
        "id": "N33YpvF1TUDT"
      }
    },
    {
      "cell_type": "markdown",
      "source": [
        "## Outils de la Science des Données\n",
        "| Outil             | Description                      |\n",
        "|-------------------|----------------------------------|\n",
        "| Jupyter Notebooks | Environnement interactif         |\n",
        "| RStudio           | IDE pour R                       |\n",
        "| TensorFlow        | Bibliothèque d'apprentissage profond |\n"
      ],
      "metadata": {
        "id": "doT0bCgXTUJO"
      }
    },
    {
      "cell_type": "markdown",
      "source": [
        "## Exemples d'Expressions Arithmétiques\n",
        "\n",
        "Addition : \\(5 + 3\\)\n",
        "Soustraction : \\(10 - 7\\)\n",
        "\n",
        "\n"
      ],
      "metadata": {
        "id": "VHyCVueAUTSo"
      }
    },
    {
      "cell_type": "code",
      "source": [
        "# Multiplication\n",
        "result_mult = 5 * 10\n",
        "\n",
        "# Addition\n",
        "result_add = 20 + 30"
      ],
      "metadata": {
        "id": "EAHTT6GiTbdZ"
      },
      "execution_count": 3,
      "outputs": []
    },
    {
      "cell_type": "code",
      "source": [
        "result_mult"
      ],
      "metadata": {
        "colab": {
          "base_uri": "https://localhost:8080/"
        },
        "id": "6x2p4-OBYXaC",
        "outputId": "4f2f2306-3398-4ac7-829b-7549819cd53d"
      },
      "execution_count": 7,
      "outputs": [
        {
          "output_type": "execute_result",
          "data": {
            "text/plain": [
              "50"
            ]
          },
          "metadata": {},
          "execution_count": 7
        }
      ]
    },
    {
      "cell_type": "code",
      "source": [
        "result_add"
      ],
      "metadata": {
        "colab": {
          "base_uri": "https://localhost:8080/"
        },
        "id": "3UbLY9wNYZ9I",
        "outputId": "2038073b-d1a0-4089-a196-3942788db556"
      },
      "execution_count": 8,
      "outputs": [
        {
          "output_type": "execute_result",
          "data": {
            "text/plain": [
              "50"
            ]
          },
          "metadata": {},
          "execution_count": 8
        }
      ]
    },
    {
      "cell_type": "code",
      "source": [
        "minutes = 120\n",
        "hours = minutes / 60"
      ],
      "metadata": {
        "id": "2S3n8Zt4UdTv"
      },
      "execution_count": 6,
      "outputs": []
    },
    {
      "cell_type": "markdown",
      "source": [
        "## Objectifs du Carnet\n",
        "1. Présenter les concepts de base en science des données.\n",
        "2. Illustrer l'utilisation de différents langages et bibliothèques.\n",
        "3. Explorer des expressions arithmétiques et des opérations de base.\n"
      ],
      "metadata": {
        "id": "F7dBGum8UoTn"
      }
    },
    {
      "cell_type": "markdown",
      "source": [
        "Auteur : EL HAMID YOUSSEF"
      ],
      "metadata": {
        "id": "CliZI-5RUs1H"
      }
    },
    {
      "cell_type": "code",
      "source": [],
      "metadata": {
        "id": "Li0c-WSpUjyW"
      },
      "execution_count": null,
      "outputs": []
    }
  ]
}